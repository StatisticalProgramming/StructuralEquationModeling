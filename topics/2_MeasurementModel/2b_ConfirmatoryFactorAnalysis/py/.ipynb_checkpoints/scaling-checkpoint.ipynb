{
 "cells": [
  {
   "cell_type": "markdown",
   "metadata": {},
   "source": [
    "## Conventional Drawing and Labeling of SEM Model"
   ]
  },
  {
   "cell_type": "markdown",
   "metadata": {},
   "source": [
    "### SEM nomenclature conventions\n",
    "\n",
    "| name   | upper case   | lower case   | usage                                                            |\n",
    "|--------|----------------|------------|------------------------------------------------------------------|\n",
    "| Lambda |$\\Lambda$     | $\\lambda$    | Loading of a manifest indicator onto a latent construct          |\n",
    "| Psi    | $\\Psi$       | $\\psi$       | residual variance/covariance of contruct when endogenous         |\n",
    "| Theta  | $\\Theta$     | $\\theta$     | residual variance/covariance of indicators                       |\n",
    "| Sigma  | $\\Sigma$     | $\\sigma$     | $\\Sigma$ is the model implied variance/covariance matrix;        |\n",
    "|        |              |              | $\\sigma$ is standard deviation, $\\sigma^2$ variance of indicator.|\n",
    "|        |              |              | $\\sigma$ can also be covariance of indicator                     |\n",
    "\n",
    "\n"
   ]
  },
  {
   "cell_type": "markdown",
   "metadata": {},
   "source": [
    "\n",
    "<!--html_preserve--><div id=\"htmlwidget-8897\" style=\"width:480px;height:288px;\" class=\"grViz\"></div>\n",
    "<script type=\"application/json\" data-for=\"htmlwidget-8897\">{\"x\":{\"diagram\":\"\\ndigraph Basic {\\nnode [shape = circle]\\nConstruct_1;\\nConstruct_2;\\nnode [shape = box]\\nindicator_1; indicator_2; indicator_3;\\nindicator_4; indicator_5; indicator_6;\\n# Edges\\nConstruct_1 -> indicator_1 [label = <&nbsp;&lambda;<sub>1,1</sub>>];\\nConstruct_1 -> indicator_2 [label = <&nbsp;&lambda;<sub>2,1</sub>>];\\nConstruct_1 -> indicator_3 [label = <&nbsp;&lambda;<sub>3,1</sub>>];\\nConstruct_1:n -> Construct_1:n [dir=both, label = <&psi;<sub>1,1</sub>>];\\n\\nindicator_1:s -> indicator_1:s [dir=both, label = <&theta;<sub>1,1</sub>>];\\nindicator_2:s -> indicator_2:s [dir=both, label = <&theta;<sub>2,2</sub>>];\\nindicator_3:s -> indicator_3:s [dir=both, label = <&theta;<sub>3,3</sub>>];\\n\\nConstruct_2 -> indicator_4 [label = <&nbsp;&lambda;<sub>1,2</sub>>];\\nConstruct_2 -> indicator_5 [label = <&nbsp;&lambda;<sub>2,2</sub>>];\\nConstruct_2 -> indicator_6 [label = <&nbsp;&lambda;<sub>3,2</sub>>];\\nConstruct_2:n -> Construct_2:n [dir=both, label = <&psi;<sub>2,2</sub>>];\\n\\nindicator_4:s -> indicator_4:s [dir=both, label = <&theta;<sub>4,4</sub>>];\\nindicator_5:s -> indicator_5:s [dir=both, label = <&theta;<sub>5,5</sub>>];\\nindicator_6:s -> indicator_6:s [dir=both, label = <&theta;<sub>6,6</sub>>];\\n\\nConstruct_1:n -> Construct_2:n [dir=both, label = <&psi;<sub>2,1</sub>>];\\n\\n{rank = same; Construct_1; Construct_2}\\n{rank = same; indicator_1; indicator_2; indicator_3; \\nindicator_4; indicator_5; indicator_6;}\\n} \\n\",\"config\":{\"engine\":\"dot\",\"options\":null}},\"evals\":[]}</script><!--/html_preserve-->\n",
    "\\[ \\textbf{$\\Sigma$} = \\left[ \\begin{array}{cccccc}\n",
    "\\sigma_{1,1}^2 & \\sigma_{1,2} & \\sigma_{1,3} & \\sigma_{1,4} & \\sigma_{1,5} & \\sigma_{1,6} \\\\\n",
    "\\sigma_{2,1} & \\sigma_{2,2}^2 & \\sigma_{2,3} & \\sigma_{2,4} & \\sigma_{2,5} & \\sigma_{2,6} \\\\\n",
    "\\sigma_{3,1} & \\sigma_{3,2} & \\sigma_{3,3}^2 & \\sigma_{3,4} & \\sigma_{3,5} & \\sigma_{3,6} \\\\\n",
    "\\sigma_{4,1} & \\sigma_{4,2} & \\sigma_{4,3} & \\sigma_{4,4}^2 &  \\sigma_{4,5} & \\sigma_{4,6} \\\\\n",
    "\\sigma_{5,1} & \\sigma_{5,2} & \\sigma_{5,3} & \\sigma_{5,4} & \\sigma_{5,5}^2 & \\sigma_{5,6} \\\\\n",
    "\\sigma_{6,1} & \\sigma_{6,2} & \\sigma_{6,3} & \\sigma_{6,4} & \\sigma_{6,5} & \\sigma_{6,6}^2 \n",
    "\\end{array} \\right],\\] \n",
    "\n",
    "\\[ \\textbf{$\\Lambda$} = \\left[ \\begin{array}{cc}\n",
    "\\lambda_{1,1} & \\lambda_{1,2} \\\\\n",
    "\\lambda_{2,1} & \\lambda_{2,2} \\\\\n",
    "\\lambda_{3,1} & \\lambda_{3,2}\n",
    "\\end{array} \\right],\\] \n",
    "\n",
    "\\[ \\textbf{$\\Psi$} = \\left[ \\begin{array}{cc}\n",
    "\\psi_{1,1} & \\psi_{1,2} \\\\\n",
    "\\psi_{2,1} & \\psi_{2,2}\n",
    "\\end{array} \\right],\\] \n",
    "\n",
    "\\[ \\textbf{$\\Lambda^\\prime$} = \\left[ \\begin{array}{cc}\n",
    "\\lambda_{1,1} & \\lambda_{2,1} & \\lambda_{3,1} \\\\\n",
    "\\lambda_{1,2} & \\lambda_{2,2} & \\lambda_{3,2}\n",
    "\\end{array} \\right],\\] \n",
    "\n",
    "\\[ \\textbf{$\\Theta$} = \\left[ \\begin{array}{cccccc}\n",
    "\\theta_{1,1} & 0 & 0 & 0 & 0 & 0 \\\\\n",
    "0 & \\theta_{2,2} & 0 & 0 & 0 & 0 \\\\\n",
    "0 & 0 & \\theta_{3,3} & 0 & 0 & 0 \\\\\n",
    "0 & 0 & 0 & \\theta_{4,4} &  0 & 0 \\\\\n",
    "0 & 0 & 0 & 0 & \\theta_{5,5} & 0 \\\\\n",
    "0 & 0 & 0 & 0 & 0 & \\theta_{6,6} \n",
    "\\end{array} \\right].\\] \n",
    "\n",
    "### Fundamental SEM equation\n",
    "\n",
    "$$\n",
    "\\Sigma = \\Lambda \\Psi \\Lambda' + \\Theta \\tag{1}\n",
    "$$\n",
    "\n",
    "## Unidimensional Measurement Model\n",
    "\n",
    "<!--html_preserve--><div id=\"htmlwidget-4260\" style=\"width:480px;height:288px;\" class=\"grViz\"></div>\n",
    "<script type=\"application/json\" data-for=\"htmlwidget-4260\">{\"x\":{\"diagram\":\"\\n    \\ndigraph CFA {\\n\\nnode [shape = circle]\\nPositive;\\n\\nnode [shape = box]\\nGlad; Cheer; Happy;\\n\\n# Edges\\nPositive -> Glad [label = <&lambda;<sub>1</sub>>];\\nPositive -> Cheer [label = <&lambda;<sub>2</sub>>];\\nPositive -> Happy [label = <&lambda;<sub>3</sub>>];\\nPositive:n -> Positive:n [dir=both, label = <&psi;>,position = N]\\nGlad:s -> Glad:s [dir=both, label = <&theta;<sub>1</sub>>]\\nCheer:s -> Cheer:s [dir=both, label = <&theta;<sub>2</sub>>]\\nHappy:s -> Happy:s [dir=both, label = <&theta;<sub>3</sub>>]\\n\\n\\t{rank = same; Positive;}\\n\\t{rank = same; Glad; Cheer; Happy;}\\n}  \\n\",\"config\":{\"engine\":\"dot\",\"options\":null}},\"evals\":[]}</script><!--/html_preserve-->\n"
   ]
  },
  {
   "cell_type": "code",
   "execution_count": 1,
   "metadata": {
    "collapsed": true
   },
   "outputs": [],
   "source": [
    "import numpy as np\n"
   ]
  },
  {
   "cell_type": "code",
   "execution_count": 22,
   "metadata": {
    "collapsed": false
   },
   "outputs": [
    {
     "data": {
      "text/plain": [
       "matrix([[ 0.712,  0.   ],\n",
       "        [ 0.788,  0.   ],\n",
       "        [ 0.768,  0.   ],\n",
       "        [ 0.   ,  0.729],\n",
       "        [ 0.   ,  0.764],\n",
       "        [ 0.   ,  0.788]])"
      ]
     },
     "execution_count": 22,
     "metadata": {},
     "output_type": "execute_result"
    }
   ],
   "source": [
    "lam = np.matrix([[0.712, 0.000],\n",
    "                 [0.788, 0.000],\n",
    "                 [0.768, 0.000],\n",
    "                 [0.00, 0.729],\n",
    "                 [0.00, 0.764],\n",
    "                 [0.00, 0.788]])\n",
    "lam"
   ]
  },
  {
   "cell_type": "code",
   "execution_count": 23,
   "metadata": {
    "collapsed": false
   },
   "outputs": [
    {
     "data": {
      "text/plain": [
       "matrix([[ 1.   ,  0.561],\n",
       "        [ 0.561,  1.   ]])"
      ]
     },
     "execution_count": 23,
     "metadata": {},
     "output_type": "execute_result"
    }
   ],
   "source": [
    "psi = np.matrix([[1.000, 0.561],\n",
    "               [0.561, 1.000]])\n",
    "psi"
   ]
  },
  {
   "cell_type": "code",
   "execution_count": 15,
   "metadata": {
    "collapsed": false
   },
   "outputs": [
    {
     "data": {
      "text/plain": [
       "array([[ 0.491,  0.   ,  0.   ,  0.   ,  0.   ,  0.   ],\n",
       "       [ 0.   ,  0.378,  0.   ,  0.   ,  0.   ,  0.   ],\n",
       "       [ 0.   ,  0.   ,  0.409,  0.   ,  0.   ,  0.   ],\n",
       "       [ 0.   ,  0.   ,  0.   ,  0.467,  0.   ,  0.   ],\n",
       "       [ 0.   ,  0.   ,  0.   ,  0.   ,  0.416,  0.   ],\n",
       "       [ 0.   ,  0.   ,  0.   ,  0.   ,  0.   ,  0.394]])"
      ]
     },
     "execution_count": 15,
     "metadata": {},
     "output_type": "execute_result"
    }
   ],
   "source": [
    "theta = np.diagflat([.491, .378, .409, .467, .416, .394])\n",
    "theta"
   ]
  },
  {
   "cell_type": "code",
   "execution_count": 28,
   "metadata": {
    "collapsed": false,
    "scrolled": true
   },
   "outputs": [
    {
     "data": {
      "text/plain": [
       "matrix([[ 0.997944  ,  0.561056  ,  0.546816  ,  0.29118593,  0.30516605,\n",
       "          0.31475242],\n",
       "        [ 0.561056  ,  0.998944  ,  0.605184  ,  0.32226757,  0.33773995,\n",
       "          0.34834958],\n",
       "        [ 0.546816  ,  0.605184  ,  0.998824  ,  0.31408819,  0.32916787,\n",
       "          0.33950822],\n",
       "        [ 0.29118593,  0.32226757,  0.31408819,  0.998441  ,  0.556956  ,\n",
       "          0.574452  ],\n",
       "        [ 0.30516605,  0.33773995,  0.32916787,  0.556956  ,  0.999696  ,\n",
       "          0.602032  ],\n",
       "        [ 0.31475242,  0.34834958,  0.33950822,  0.574452  ,  0.602032  ,\n",
       "          1.014944  ]])"
      ]
     },
     "execution_count": 28,
     "metadata": {},
     "output_type": "execute_result"
    }
   ],
   "source": [
    "sigma = lam*psi*lam.T + theta\n",
    "sigma"
   ]
  },
  {
   "cell_type": "code",
   "execution_count": 31,
   "metadata": {
    "collapsed": false
   },
   "outputs": [
    {
     "ename": "ImportError",
     "evalue": "No module named graphviz",
     "output_type": "error",
     "traceback": [
      "\u001b[1;31m---------------------------------------------------------------------------\u001b[0m",
      "\u001b[1;31mImportError\u001b[0m                               Traceback (most recent call last)",
      "\u001b[1;32m<ipython-input-31-452823be60bf>\u001b[0m in \u001b[0;36m<module>\u001b[1;34m()\u001b[0m\n\u001b[1;32m----> 1\u001b[1;33m \u001b[1;32mfrom\u001b[0m \u001b[0mgraphviz\u001b[0m \u001b[1;32mimport\u001b[0m \u001b[0mSource\u001b[0m\u001b[1;33m\u001b[0m\u001b[0m\n\u001b[0m",
      "\u001b[1;31mImportError\u001b[0m: No module named graphviz"
     ]
    }
   ],
   "source": [
    "from graphviz import Source"
   ]
  },
  {
   "cell_type": "code",
   "execution_count": null,
   "metadata": {
    "collapsed": true
   },
   "outputs": [],
   "source": []
  }
 ],
 "metadata": {
  "kernelspec": {
   "display_name": "Python 2",
   "language": "python",
   "name": "python2"
  },
  "language_info": {
   "codemirror_mode": {
    "name": "ipython",
    "version": 2
   },
   "file_extension": ".py",
   "mimetype": "text/x-python",
   "name": "python",
   "nbconvert_exporter": "python",
   "pygments_lexer": "ipython2",
   "version": "2.7.11"
  }
 },
 "nbformat": 4,
 "nbformat_minor": 0
}
